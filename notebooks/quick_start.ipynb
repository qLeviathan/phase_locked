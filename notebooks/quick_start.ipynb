{
 "cells": [
  {
   "cell_type": "markdown",
   "metadata": {},
   "source": [
    "# Φ-Mamba Quick Start Guide\n",
    "\n",
    "This notebook demonstrates the key concepts of phase-locked language modeling with golden ratio encoding."
   ]
  },
  {
   "cell_type": "markdown",
   "metadata": {},
   "source": [
    "## 1. The Golden Ratio Foundation\n",
    "\n",
    "Everything starts with φ as the primitive:"
   ]
  },
  {
   "cell_type": "code",
   "execution_count": 1,
   "metadata": {},
   "outputs": [
    {
     "name": "stdout",
     "output_type": "stream",
     "text": [
      "φ = 1.6180339887\n",
      "ψ = -0.6180339887\n",
      "\n",
      "Key identity: φ² - φ = 1.0000000000 = 1\n",
      "This means unity (1) emerges from φ!\n"
     ]
    }
   ],
   "source": [
    "import numpy as np\n",
    "from math import sqrt, log, pi\n",
    "import matplotlib.pyplot as plt\n",
    "\n",
    "# The golden ratio\n",
    "PHI = (1 + sqrt(5)) / 2\n",
    "PSI = -1 / PHI\n",
    "\n",
    "print(f\"φ = {PHI:.10f}\")\n",
    "print(f\"ψ = {PSI:.10f}\")\n",
    "print(f\"\\nKey identity: φ² - φ = {PHI**2 - PHI:.10f} = 1\")\n",
    "print(f\"This means unity (1) emerges from φ!\")"
   ]
  },
  {
   "cell_type": "markdown",
   "metadata": {},
   "source": [
    "## 2. Multiplication Becomes Addition\n",
    "\n",
    "The key computational advantage:"
   ]
  },
  {
   "cell_type": "code",
   "execution_count": 2,
   "metadata": {},
   "outputs": [
    {
     "name": "stdout",
     "output_type": "stream",
     "text": [
      "Traditional: 11.0902 × 4.2361 = 46.9787\n",
      "Φ-Mamba:     φ⁵ × φ³ = φ⁸ = 46.9787\n",
      "Same result: True\n",
      "\n",
      "But Φ-Mamba only used addition: 5 + 3 = 8!\n"
     ]
    }
   ],
   "source": [
    "# Traditional multiplication\n",
    "a = PHI**5\n",
    "b = PHI**3\n",
    "traditional_result = a * b\n",
    "\n",
    "# Φ-Mamba: just add exponents!\n",
    "phi_result = PHI**(5 + 3)\n",
    "\n",
    "print(f\"Traditional: {a:.4f} × {b:.4f} = {traditional_result:.4f}\")\n",
    "print(f\"Φ-Mamba:     φ⁵ × φ³ = φ⁸ = {phi_result:.4f}\")\n",
    "print(f\"Same result: {abs(traditional_result - phi_result) < 1e-10}\")\n",
    "print(f\"\\nBut Φ-Mamba only used addition: 5 + 3 = 8!\")"
   ]
  },
  {
   "cell_type": "markdown",
   "metadata": {},
   "source": [
    "## 3. Zeckendorf Decomposition - Emergent Topology\n",
    "\n",
    "Every number has a unique representation as non-adjacent Fibonacci numbers:"
   ]
  },
  {
   "cell_type": "code",
   "execution_count": 2,
   "metadata": {},
   "outputs": [
    {
     "name": "stdout",
     "output_type": "stream",
     "text": [
      "10 = 8 + 2\n",
      "17 = 13 + 3 + 1\n",
      "25 = 21 + 3 + 1\n",
      "42 = 34 + 8\n",
      "\n",
      "Notice: No consecutive Fibonacci numbers!\n",
      "This gap emerges from φ² = φ + 1\n"
     ]
    }
   ],
   "source": [
    "def fibonacci(n):\n",
    "    if n <= 0: return 0\n",
    "    if n == 1: return 1\n",
    "    a, b = 0, 1\n",
    "    for _ in range(2, n+1):\n",
    "        a, b = b, a + b\n",
    "    return b\n",
    "\n",
    "def zeckendorf(n):\n",
    "    if n == 0: return []\n",
    "    \n",
    "    # Build Fibonacci sequence\n",
    "    fibs = []\n",
    "    i = 2\n",
    "    while fibonacci(i) <= n:\n",
    "        fibs.append(fibonacci(i))\n",
    "        i += 1\n",
    "    \n",
    "    # Greedy decomposition\n",
    "    result = []\n",
    "    for f in reversed(fibs):\n",
    "        if f <= n:\n",
    "            result.append(f)\n",
    "            n -= f\n",
    "            fibs.remove(f)\n",
    "            # Remove next Fibonacci (gap constraint)\n",
    "            if fibs and fibs[-1] < f:\n",
    "                fibs = [x for x in fibs if x < f/1.5]\n",
    "    \n",
    "    return result\n",
    "\n",
    "# Examples\n",
    "for n in [10, 17, 25, 42]:\n",
    "    zeck = zeckendorf(n)\n",
    "    print(f\"{n} = {' + '.join(map(str, zeck))}\")\n",
    "    \n",
    "print(\"\\nNotice: No consecutive Fibonacci numbers!\")\n",
    "print(\"This gap emerges from φ² = φ + 1\")"
   ]
  },
  {
   "cell_type": "markdown",
   "metadata": {},
   "source": [
    "## 4. Token States on the Cylinder\n",
    "\n",
    "Each token lives at a position on a cylinder:"
   ]
  },
  {
   "cell_type": "code",
   "execution_count": 3,
   "metadata": {},
   "outputs": [
    {
     "name": "stdout",
     "output_type": "stream",
     "text": [
      "Token('The', pos=0, energy=1.0000)\n",
      "Token('cat', pos=1, energy=0.6180)\n",
      "Token('sat', pos=2, energy=0.3820)\n",
      "\n",
      "Notice energy decay: 1.0000 → 0.3820\n"
     ]
    }
   ],
   "source": [
    "class TokenState:\n",
    "    def __init__(self, token, position):\n",
    "        self.token = token\n",
    "        self.position = position\n",
    "        \n",
    "        # Angular position (based on token hash)\n",
    "        self.theta = 2 * pi * (hash(token) % 1000) / 1000\n",
    "        \n",
    "        # Energy decays with position\n",
    "        self.energy = PHI**(-position)\n",
    "        \n",
    "        # Zeckendorf shells\n",
    "        self.shells = zeckendorf(position + 1)\n",
    "        \n",
    "    def __repr__(self):\n",
    "        return f\"Token('{self.token}', pos={self.position}, energy={self.energy:.4f})\"\n",
    "\n",
    "# Create a sequence\n",
    "sentence = \"The cat sat\"\n",
    "tokens = sentence.split()\n",
    "states = [TokenState(token, i) for i, token in enumerate(tokens)]\n",
    "\n",
    "for state in states:\n",
    "    print(state)\n",
    "    \n",
    "print(f\"\\nNotice energy decay: {states[0].energy:.4f} → {states[-1].energy:.4f}\")"
   ]
  },
  {
   "cell_type": "markdown",
   "metadata": {},
   "source": [
    "## 5. Natural Termination via Energy Decay\n",
    "\n",
    "Sentences end naturally when energy depletes:"
   ]
  },
  {
   "cell_type": "code",
   "execution_count": 4,
   "metadata": {},
   "outputs": [
    {
     "data": {
      "image/png": "[encoded data removed]",
      "text/plain": [
       "<Figure size 1000x600 with 1 Axes>"
      ]
     },
     "metadata": {},
     "output_type": "display_data"
    },
    {
     "name": "stdout",
     "output_type": "stream",
     "text": [
      "No arbitrary cutoff needed - physics determines sentence length!\n"
     ]
    }
   ],
   "source": [
    "# Show energy decay\n",
    "positions = range(15)\n",
    "energies = [PHI**(-p) for p in positions]\n",
    "\n",
    "plt.figure(figsize=(10, 6))\n",
    "plt.plot(positions, energies, 'bo-', linewidth=2, markersize=8)\n",
    "plt.axhline(y=0.01, color='r', linestyle='--', label='Termination threshold')\n",
    "plt.xlabel('Token Position')\n",
    "plt.ylabel('Energy')\n",
    "plt.title('Natural Termination through Energy Decay')\n",
    "plt.grid(True, alpha=0.3)\n",
    "plt.legend()\n",
    "plt.yscale('log')\n",
    "\n",
    "# Find termination point\n",
    "for i, e in enumerate(energies):\n",
    "    if e < 0.01:\n",
    "        plt.axvline(x=i, color='g', linestyle=':', label=f'Natural end at position {i}')\n",
    "        break\n",
    "\n",
    "plt.legend()\n",
    "plt.show()\n",
    "\n",
    "print(\"No arbitrary cutoff needed - physics determines sentence length!\")"
   ]
  },
  {
   "cell_type": "markdown",
   "metadata": {},
   "source": [
    "## 6. Phase Locking for Coherence\n",
    "\n",
    "Coherent sequences have Berry phase ≈ 0 (mod 2π):"
   ]
  },
  {
   "cell_type": "code",
   "execution_count": 5,
   "metadata": {},
   "outputs": [
    {
     "name": "stdout",
     "output_type": "stream",
     "text": [
      "Phase relationships:\n",
      "The → cat: γ = 2.997 ✗ not locked\n",
      "cat → sat: γ = 5.925 ✓ LOCKED\n"
     ]
    }
   ],
   "source": [
    "def berry_phase(state1, state2):\n",
    "    \"\"\"Calculate Berry phase between states\"\"\"\n",
    "    d_theta = state2.theta - state1.theta\n",
    "    \n",
    "    # Shell overlap\n",
    "    overlap = len(set(state1.shells) & set(state2.shells))\n",
    "    max_shells = max(len(state1.shells), len(state2.shells), 1)\n",
    "    \n",
    "    gamma = d_theta * (1 + overlap/max_shells)\n",
    "    return gamma % (2*pi)\n",
    "\n",
    "def is_phase_locked(gamma, tolerance=0.5):\n",
    "    \"\"\"Check if phase indicates coherent transition\"\"\"\n",
    "    return gamma < tolerance or gamma > (2*pi - tolerance)\n",
    "\n",
    "# Check phase relationships in our sentence\n",
    "print(\"Phase relationships:\")\n",
    "for i in range(len(states)-1):\n",
    "    gamma = berry_phase(states[i], states[i+1])\n",
    "    locked = is_phase_locked(gamma)\n",
    "    status = \"✓ LOCKED\" if locked else \"✗ not locked\"\n",
    "    print(f\"{states[i].token} → {states[i+1].token}: γ = {gamma:.3f} {status}\")"
   ]
  },
  {
   "cell_type": "markdown",
   "metadata": {},
   "source": [
    "## 7. Retrocausal Encoding\n",
    "\n",
    "Future tokens constrain past tokens:"
   ]
  },
  {
   "cell_type": "code",
   "execution_count": 6,
   "metadata": {},
   "outputs": [
    {
     "name": "stdout",
     "output_type": "stream",
     "text": [
      "Retrocausal encoding adds future information:\n",
      "Position 0: 'The' coherence = 0.5\n",
      "Position 1: 'cat' coherence = 1.5\n",
      "Position 2: 'sat' coherence = 1.0\n"
     ]
    }
   ],
   "source": [
    "def retrocausal_encode(tokens):\n",
    "    \"\"\"Encode with future constraints\"\"\"\n",
    "    # Create states\n",
    "    states = [TokenState(token, i) for i, token in enumerate(tokens)]\n",
    "    \n",
    "    # Work backward\n",
    "    for i in range(len(states)-1, 0, -1):\n",
    "        future = states[i]\n",
    "        past = states[i-1]\n",
    "        \n",
    "        # Future constrains past\n",
    "        constraint = berry_phase(past, future)\n",
    "        \n",
    "        # Adjust past state based on future\n",
    "        if is_phase_locked(constraint):\n",
    "            past.coherence = 1.5  # Boost\n",
    "        else:\n",
    "            past.coherence = 0.5  # Reduce\n",
    "            \n",
    "    return states\n",
    "\n",
    "# Compare forward vs retrocausal\n",
    "forward_states = [TokenState(token, i) for i, token in enumerate(tokens)]\n",
    "retro_states = retrocausal_encode(tokens)\n",
    "\n",
    "print(\"Retrocausal encoding adds future information:\")\n",
    "for i, (f, r) in enumerate(zip(forward_states, retro_states)):\n",
    "    coherence = getattr(r, 'coherence', 1.0)\n",
    "    print(f\"Position {i}: '{f.token}' coherence = {coherence}\")"
   ]
  },
  {
   "cell_type": "markdown",
   "metadata": {},
   "source": [
    "## 8. Key Insights\n",
    "\n",
    "1. **Unity emerges**: 1 = φ² - φ (not primitive)\n",
    "2. **Addition only**: All multiplication → addition in log space \n",
    "3. **Natural boundaries**: Energy decay creates sentence endings\n",
    "4. **Phase coherence**: Berry phase ensures meaningful sequences\n",
    "5. **Retrocausal**: Future constrains past for better coherence\n",
    "6. **Topology**: Information stored as hole patterns, not bits\n",
    "\n",
    "This is a fundamentally different approach to language modeling!"
   ]
  }
 ],
 "metadata": {
  "kernelspec": {
   "display_name": "Python 3",
   "language": "python",
   "name": "python3"
  },
  "language_info": {
   "codemirror_mode": {
    "name": "ipython",
    "version": 3
   },
   "file_extension": ".py",
   "mimetype": "text/x-python",
   "name": "python",
   "nbconvert_exporter": "python",
   "pygments_lexer": "ipython3",
   "version": "3.8.0"
  }
 },
 "nbformat": 4,
 "nbformat_minor": 4
}
